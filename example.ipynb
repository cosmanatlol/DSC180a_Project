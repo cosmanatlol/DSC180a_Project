{
 "cells": [
  {
   "cell_type": "code",
   "execution_count": 102,
   "id": "03c09cb2",
   "metadata": {},
   "outputs": [
    {
     "name": "stdout",
     "output_type": "stream",
     "text": [
      "The autoreload extension is already loaded. To reload it, use:\n",
      "  %reload_ext autoreload\n"
     ]
    }
   ],
   "source": [
    "%load_ext autoreload\n",
    "%autoreload 2\n",
    "import pandas as pd\n",
    "import numpy as np\n",
    "import yfinance as yf\n",
    "import time\n",
    "import matplotlib.pyplot as plt\n",
    "import pandas_ta as ta\n",
    "from preprocessing import *"
   ]
  },
  {
   "cell_type": "code",
   "execution_count": 14,
   "id": "652e4adf",
   "metadata": {},
   "outputs": [
    {
     "name": "stderr",
     "output_type": "stream",
     "text": [
      "[*********************100%***********************]  10 of 10 completed\n"
     ]
    },
    {
     "data": {
      "text/html": [
       "<div>\n",
       "<style scoped>\n",
       "    .dataframe tbody tr th:only-of-type {\n",
       "        vertical-align: middle;\n",
       "    }\n",
       "\n",
       "    .dataframe tbody tr th {\n",
       "        vertical-align: top;\n",
       "    }\n",
       "\n",
       "    .dataframe thead tr th {\n",
       "        text-align: left;\n",
       "    }\n",
       "\n",
       "    .dataframe thead tr:last-of-type th {\n",
       "        text-align: right;\n",
       "    }\n",
       "</style>\n",
       "<table border=\"1\" class=\"dataframe\">\n",
       "  <thead>\n",
       "    <tr>\n",
       "      <th>Price</th>\n",
       "      <th colspan=\"10\" halign=\"left\">Adj Close</th>\n",
       "      <th>...</th>\n",
       "      <th colspan=\"10\" halign=\"left\">Volume</th>\n",
       "    </tr>\n",
       "    <tr>\n",
       "      <th>Ticker</th>\n",
       "      <th>CHPT</th>\n",
       "      <th>EVGO</th>\n",
       "      <th>INDI</th>\n",
       "      <th>LAZR</th>\n",
       "      <th>LCID</th>\n",
       "      <th>LI</th>\n",
       "      <th>NIO</th>\n",
       "      <th>RIVN</th>\n",
       "      <th>TSLA</th>\n",
       "      <th>XPEV</th>\n",
       "      <th>...</th>\n",
       "      <th>CHPT</th>\n",
       "      <th>EVGO</th>\n",
       "      <th>INDI</th>\n",
       "      <th>LAZR</th>\n",
       "      <th>LCID</th>\n",
       "      <th>LI</th>\n",
       "      <th>NIO</th>\n",
       "      <th>RIVN</th>\n",
       "      <th>TSLA</th>\n",
       "      <th>XPEV</th>\n",
       "    </tr>\n",
       "    <tr>\n",
       "      <th>Date</th>\n",
       "      <th></th>\n",
       "      <th></th>\n",
       "      <th></th>\n",
       "      <th></th>\n",
       "      <th></th>\n",
       "      <th></th>\n",
       "      <th></th>\n",
       "      <th></th>\n",
       "      <th></th>\n",
       "      <th></th>\n",
       "      <th></th>\n",
       "      <th></th>\n",
       "      <th></th>\n",
       "      <th></th>\n",
       "      <th></th>\n",
       "      <th></th>\n",
       "      <th></th>\n",
       "      <th></th>\n",
       "      <th></th>\n",
       "      <th></th>\n",
       "      <th></th>\n",
       "    </tr>\n",
       "  </thead>\n",
       "  <tbody>\n",
       "    <tr>\n",
       "      <th>2022-01-03 00:00:00+00:00</th>\n",
       "      <td>19.870001</td>\n",
       "      <td>10.62</td>\n",
       "      <td>11.69</td>\n",
       "      <td>17.98</td>\n",
       "      <td>40.930000</td>\n",
       "      <td>32.340000</td>\n",
       "      <td>33.470001</td>\n",
       "      <td>102.720001</td>\n",
       "      <td>399.926666</td>\n",
       "      <td>50.270000</td>\n",
       "      <td>...</td>\n",
       "      <td>7944400</td>\n",
       "      <td>4525800</td>\n",
       "      <td>786400</td>\n",
       "      <td>5380400</td>\n",
       "      <td>45685100</td>\n",
       "      <td>7153900</td>\n",
       "      <td>64286500</td>\n",
       "      <td>8346800</td>\n",
       "      <td>103931400</td>\n",
       "      <td>10873300</td>\n",
       "    </tr>\n",
       "    <tr>\n",
       "      <th>2022-01-04 00:00:00+00:00</th>\n",
       "      <td>19.520000</td>\n",
       "      <td>10.15</td>\n",
       "      <td>11.34</td>\n",
       "      <td>17.84</td>\n",
       "      <td>39.410000</td>\n",
       "      <td>30.330000</td>\n",
       "      <td>31.580000</td>\n",
       "      <td>101.389999</td>\n",
       "      <td>383.196655</td>\n",
       "      <td>47.599998</td>\n",
       "      <td>...</td>\n",
       "      <td>7808100</td>\n",
       "      <td>4425800</td>\n",
       "      <td>881500</td>\n",
       "      <td>4102900</td>\n",
       "      <td>30476900</td>\n",
       "      <td>8156400</td>\n",
       "      <td>47866800</td>\n",
       "      <td>12152200</td>\n",
       "      <td>100248300</td>\n",
       "      <td>10009600</td>\n",
       "    </tr>\n",
       "    <tr>\n",
       "      <th>2022-01-05 00:00:00+00:00</th>\n",
       "      <td>18.160000</td>\n",
       "      <td>9.56</td>\n",
       "      <td>10.48</td>\n",
       "      <td>16.32</td>\n",
       "      <td>36.680000</td>\n",
       "      <td>29.170000</td>\n",
       "      <td>29.879999</td>\n",
       "      <td>90.010002</td>\n",
       "      <td>362.706665</td>\n",
       "      <td>46.110001</td>\n",
       "      <td>...</td>\n",
       "      <td>7696000</td>\n",
       "      <td>3808800</td>\n",
       "      <td>1287300</td>\n",
       "      <td>6185000</td>\n",
       "      <td>43318800</td>\n",
       "      <td>6349500</td>\n",
       "      <td>42442700</td>\n",
       "      <td>18645100</td>\n",
       "      <td>80119800</td>\n",
       "      <td>10182500</td>\n",
       "    </tr>\n",
       "    <tr>\n",
       "      <th>2022-01-06 00:00:00+00:00</th>\n",
       "      <td>17.350000</td>\n",
       "      <td>9.58</td>\n",
       "      <td>10.60</td>\n",
       "      <td>15.34</td>\n",
       "      <td>38.220001</td>\n",
       "      <td>28.379999</td>\n",
       "      <td>29.309999</td>\n",
       "      <td>87.330002</td>\n",
       "      <td>354.899994</td>\n",
       "      <td>46.660000</td>\n",
       "      <td>...</td>\n",
       "      <td>10271400</td>\n",
       "      <td>4630600</td>\n",
       "      <td>969000</td>\n",
       "      <td>6860400</td>\n",
       "      <td>58375500</td>\n",
       "      <td>10132000</td>\n",
       "      <td>48723200</td>\n",
       "      <td>39827100</td>\n",
       "      <td>90336600</td>\n",
       "      <td>6973000</td>\n",
       "    </tr>\n",
       "    <tr>\n",
       "      <th>2022-01-07 00:00:00+00:00</th>\n",
       "      <td>16.889999</td>\n",
       "      <td>9.52</td>\n",
       "      <td>10.53</td>\n",
       "      <td>15.76</td>\n",
       "      <td>41.980000</td>\n",
       "      <td>29.180000</td>\n",
       "      <td>29.299999</td>\n",
       "      <td>86.279999</td>\n",
       "      <td>342.320007</td>\n",
       "      <td>45.049999</td>\n",
       "      <td>...</td>\n",
       "      <td>8711900</td>\n",
       "      <td>3360700</td>\n",
       "      <td>744100</td>\n",
       "      <td>4508400</td>\n",
       "      <td>78419600</td>\n",
       "      <td>8864000</td>\n",
       "      <td>40781500</td>\n",
       "      <td>17515900</td>\n",
       "      <td>84164700</td>\n",
       "      <td>10044700</td>\n",
       "    </tr>\n",
       "  </tbody>\n",
       "</table>\n",
       "<p>5 rows × 60 columns</p>\n",
       "</div>"
      ],
      "text/plain": [
       "Price                      Adj Close                                  \\\n",
       "Ticker                          CHPT   EVGO   INDI   LAZR       LCID   \n",
       "Date                                                                   \n",
       "2022-01-03 00:00:00+00:00  19.870001  10.62  11.69  17.98  40.930000   \n",
       "2022-01-04 00:00:00+00:00  19.520000  10.15  11.34  17.84  39.410000   \n",
       "2022-01-05 00:00:00+00:00  18.160000   9.56  10.48  16.32  36.680000   \n",
       "2022-01-06 00:00:00+00:00  17.350000   9.58  10.60  15.34  38.220001   \n",
       "2022-01-07 00:00:00+00:00  16.889999   9.52  10.53  15.76  41.980000   \n",
       "\n",
       "Price                                                                    \\\n",
       "Ticker                            LI        NIO        RIVN        TSLA   \n",
       "Date                                                                      \n",
       "2022-01-03 00:00:00+00:00  32.340000  33.470001  102.720001  399.926666   \n",
       "2022-01-04 00:00:00+00:00  30.330000  31.580000  101.389999  383.196655   \n",
       "2022-01-05 00:00:00+00:00  29.170000  29.879999   90.010002  362.706665   \n",
       "2022-01-06 00:00:00+00:00  28.379999  29.309999   87.330002  354.899994   \n",
       "2022-01-07 00:00:00+00:00  29.180000  29.299999   86.279999  342.320007   \n",
       "\n",
       "Price                                 ...    Volume                    \\\n",
       "Ticker                          XPEV  ...      CHPT     EVGO     INDI   \n",
       "Date                                  ...                               \n",
       "2022-01-03 00:00:00+00:00  50.270000  ...   7944400  4525800   786400   \n",
       "2022-01-04 00:00:00+00:00  47.599998  ...   7808100  4425800   881500   \n",
       "2022-01-05 00:00:00+00:00  46.110001  ...   7696000  3808800  1287300   \n",
       "2022-01-06 00:00:00+00:00  46.660000  ...  10271400  4630600   969000   \n",
       "2022-01-07 00:00:00+00:00  45.049999  ...   8711900  3360700   744100   \n",
       "\n",
       "Price                                                                       \\\n",
       "Ticker                        LAZR      LCID        LI       NIO      RIVN   \n",
       "Date                                                                         \n",
       "2022-01-03 00:00:00+00:00  5380400  45685100   7153900  64286500   8346800   \n",
       "2022-01-04 00:00:00+00:00  4102900  30476900   8156400  47866800  12152200   \n",
       "2022-01-05 00:00:00+00:00  6185000  43318800   6349500  42442700  18645100   \n",
       "2022-01-06 00:00:00+00:00  6860400  58375500  10132000  48723200  39827100   \n",
       "2022-01-07 00:00:00+00:00  4508400  78419600   8864000  40781500  17515900   \n",
       "\n",
       "Price                                           \n",
       "Ticker                          TSLA      XPEV  \n",
       "Date                                            \n",
       "2022-01-03 00:00:00+00:00  103931400  10873300  \n",
       "2022-01-04 00:00:00+00:00  100248300  10009600  \n",
       "2022-01-05 00:00:00+00:00   80119800  10182500  \n",
       "2022-01-06 00:00:00+00:00   90336600   6973000  \n",
       "2022-01-07 00:00:00+00:00   84164700  10044700  \n",
       "\n",
       "[5 rows x 60 columns]"
      ]
     },
     "execution_count": 14,
     "metadata": {},
     "output_type": "execute_result"
    }
   ],
   "source": [
    "stock_symbols = [\n",
    "    \"RIVN\",  # Rivian Automotive\n",
    "    \"TSLA\",  # Tesla\n",
    "    \"NIO\",   # Nio Inc ADR\n",
    "    \"XPEV\",  # Xpeng Inc ADR\n",
    "    \"EVGO\",  # Evgo Inc\n",
    "    \"LI\",    # Li Auto Inc ADR\n",
    "    \"INDI\",  # Indie Semiconductor Inc Class A\n",
    "    \"CHPT\",  # Chargepoint Holdings Inc Class A\n",
    "    \"LCID\",  # Lucid Group Inc\n",
    "    \"LAZR\"   # Luminar Technologies Inc Class A\n",
    "]\n",
    "train_raw = yf.download(stock_symbols, start='2022-01-01', end='2024-08-31')\n",
    "train_raw.head()"
   ]
  },
  {
   "cell_type": "code",
   "execution_count": null,
   "id": "2aae4179",
   "metadata": {},
   "outputs": [
    {
     "name": "stderr",
     "output_type": "stream",
     "text": [
      "[*********************100%***********************]  1 of 1 completed\n",
      "[*********************100%***********************]  1 of 1 completed\n",
      "[*********************100%***********************]  1 of 1 completed\n",
      "[*********************100%***********************]  1 of 1 completed\n",
      "[*********************100%***********************]  1 of 1 completed\n",
      "[*********************100%***********************]  1 of 1 completed\n"
     ]
    }
   ],
   "source": [
    "start = '2022-01-01'\n",
    "end = '2024-08-31'\n",
    "stock_train_dic = preprocess_train(stock_symbols, start, end)\n",
    "stock_train_dic['TSLA']"
   ]
  },
  {
   "cell_type": "code",
   "execution_count": 204,
   "id": "2cbec649",
   "metadata": {},
   "outputs": [
    {
     "data": {
      "text/plain": [
       "(5600, 41)"
      ]
     },
     "execution_count": 204,
     "metadata": {},
     "output_type": "execute_result"
    }
   ],
   "source": [
    "data = stock_train_dic[stock_symbols[0]]\n",
    "for x in stock_symbols[1:]:\n",
    "    data = pd.concat([data,stock_train_dic[x]])\n",
    "data.shape"
   ]
  },
  {
   "cell_type": "code",
   "execution_count": 198,
   "id": "8be69c4b",
   "metadata": {},
   "outputs": [
    {
     "data": {
      "text/plain": [
       "Index(['Date', 'Open', 'High', 'Low', 'Close', 'Adj Close', 'Volume', 'ema_10',\n",
       "       'ema_25', 'ema_50', 'ema_100', 'hma_10', 'hma_25', 'hma_50', 'hma_100',\n",
       "       'macd', 'macd_h', 'macd_s', 'rsi', 'momentum', 'BBL', 'BBM', 'BBU',\n",
       "       'BBB', 'BBP', 'ao', 'adx', 'dmp', 'dmn', 'chop', 'pct_change', 'target',\n",
       "       'ema_rec_short', 'ema_rec_long', 'hma_rec_short', 'hma_rec_long',\n",
       "       'rsi_rec', 'macd_rec', 'mom_rec', 'bbands_rec', 'ao_rec'],\n",
       "      dtype='object')"
      ]
     },
     "execution_count": 198,
     "metadata": {},
     "output_type": "execute_result"
    }
   ],
   "source": [
    "data.columns"
   ]
  },
  {
   "cell_type": "code",
   "execution_count": null,
   "id": "9656af73",
   "metadata": {},
   "outputs": [],
   "source": [
    "from xgboost import XGBClassifier, XGBRegressor\n",
    "from sklearn.model_selection import train_test_split\n",
    "train_columns = ['ema_rec_short', 'ema_rec_long', 'hma_rec_short', 'hma_rec_long',\n",
    "       'rsi_rec', 'macd_rec', 'mom_rec', 'bbands_rec', 'ao_rec', 'chop', 'adx']\n",
    "train_columns2 = ['Close', 'ema_10','ema_25', 'ema_50', 'ema_100', 'hma_10', 'hma_25', 'hma_50', 'hma_100', \n",
    "                 'macd', 'macd_h', 'macd_s', 'rsi', 'momentum', 'ao', 'adx', 'dmp', 'dmn', 'chop',]\n",
    "X_train, X_test, y_train, y_test = train_test_split(data[train_columns2], data['target'], test_size=.2, shuffle = True)"
   ]
  },
  {
   "cell_type": "code",
   "execution_count": 273,
   "id": "1ab2bda3",
   "metadata": {},
   "outputs": [
    {
     "data": {
      "text/plain": [
       "0.5303571428571429"
      ]
     },
     "execution_count": 273,
     "metadata": {},
     "output_type": "execute_result"
    }
   ],
   "source": [
    "\n",
    "bst = XGBClassifier(n_estimators=50, max_depth=30, learning_rate=0.01, objective=\"binary:logistic\")\n",
    "bst.fit(X_train, y_train)   \n",
    "preds = bst.predict(X_test)\n",
    "bst.score(X_test, y_test)"
   ]
  },
  {
   "cell_type": "code",
   "execution_count": 274,
   "id": "d4731e48",
   "metadata": {},
   "outputs": [
    {
     "data": {
      "text/plain": [
       "0.46964285714285714"
      ]
     },
     "execution_count": 274,
     "metadata": {},
     "output_type": "execute_result"
    }
   ],
   "source": [
    "from sklearn.metrics import mean_absolute_error, mean_squared_error\n",
    "list(zip(y_test.to_numpy(), preds))\n",
    "np.mean(np.abs(y_test.to_numpy() - preds))"
   ]
  },
  {
   "cell_type": "code",
   "execution_count": 209,
   "id": "70ea3c95",
   "metadata": {},
   "outputs": [
    {
     "data": {
      "text/plain": [
       "1.0"
      ]
     },
     "execution_count": 209,
     "metadata": {},
     "output_type": "execute_result"
    }
   ],
   "source": [
    "(((y_test.to_numpy() - 2.5)*(preds - 2.5)) > 0).mean()"
   ]
  },
  {
   "cell_type": "code",
   "execution_count": 257,
   "id": "03bd3b3a",
   "metadata": {},
   "outputs": [
    {
     "data": {
      "text/plain": [
       "array([[502,  97],\n",
       "       [422,  99]], dtype=int64)"
      ]
     },
     "execution_count": 257,
     "metadata": {},
     "output_type": "execute_result"
    }
   ],
   "source": [
    "from sklearn.metrics import confusion_matrix\n",
    "import matplotlib.pyplot as plt\n",
    "confusion_matrix(y_test, preds)\n",
    "#plt.scatter(y_test, preds)"
   ]
  }
 ],
 "metadata": {
  "kernelspec": {
   "display_name": "base",
   "language": "python",
   "name": "python3"
  },
  "language_info": {
   "codemirror_mode": {
    "name": "ipython",
    "version": 3
   },
   "file_extension": ".py",
   "mimetype": "text/x-python",
   "name": "python",
   "nbconvert_exporter": "python",
   "pygments_lexer": "ipython3",
   "version": "3.12.4"
  }
 },
 "nbformat": 4,
 "nbformat_minor": 5
}
